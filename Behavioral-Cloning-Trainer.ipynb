{
 "cells": [
  {
   "cell_type": "code",
   "execution_count": 1,
   "metadata": {},
   "outputs": [
    {
     "name": "stderr",
     "output_type": "stream",
     "text": [
      "Using TensorFlow backend.\n"
     ]
    },
    {
     "name": "stdout",
     "output_type": "stream",
     "text": [
      "done\n"
     ]
    }
   ],
   "source": [
    "import sklearn\n",
    "import csv\n",
    "import cv2\n",
    "import os\n",
    "import numpy as np\n",
    "from keras.models import Sequential\n",
    "from keras.layers import Flatten, Dense, Lambda, Cropping2D\n",
    "from keras.layers.convolutional import Convolution2D\n",
    "from keras.layers.pooling import MaxPooling2D\n",
    "from sklearn.model_selection import train_test_split\n",
    "from os import getcwd\n",
    "import matplotlib.pyplot as plt\n",
    "from keras.callbacks import ModelCheckpoint, Callback\n",
    "from sklearn.utils import shuffle\n",
    "print(\"done\")"
   ]
  },
  {
   "cell_type": "markdown",
   "metadata": {},
   "source": [
    "## Preprocess image function (distortion, color space conversion)"
   ]
  },
  {
   "cell_type": "markdown",
   "metadata": {},
   "source": [
    "1. Crop the image to keep pixels 50-140 on the y axis while retaining the x axis and the 3(bgr) layers\n",
    "2. Resize the image to minimize the required memory and make the training faster, the target resize is the recommended amount from the Nvidia documentation\n",
    "3. Apply a small gaussian blur to reduce noise\n",
    "4. Convert the image to YUV color space to better the contrast for the learning process. As the Nvidia doc suggests, the YUV will allow the model to learn view the contrasting terrains/edges better."
   ]
  },
  {
   "cell_type": "code",
   "execution_count": 2,
   "metadata": {},
   "outputs": [
    {
     "name": "stdout",
     "output_type": "stream",
     "text": [
      "Done\n"
     ]
    }
   ],
   "source": [
    "def preprocess_image(img):\n",
    "    #avoid input size error in keras model\n",
    "    new_img = img[50:140,:,:]\n",
    "    new_img = cv2.GaussianBlur(new_img, (3,3), 0)\n",
    "    new_img = cv2.resize(new_img,(200, 66), interpolation = cv2.INTER_AREA)\n",
    "    new_img = cv2.cvtColor(new_img, cv2.COLOR_BGR2YUV)\n",
    "    return new_img\n",
    "\n",
    "print(\"Done\")"
   ]
  },
  {
   "cell_type": "markdown",
   "metadata": {},
   "source": [
    "## Generate the training data with pre processing"
   ]
  },
  {
   "cell_type": "markdown",
   "metadata": {},
   "source": [
    "### The Generator\n",
    "This generator is used to create extra training data by applying changes to the current images and adding them as new data.\n",
    "The first change is to make sure the images match our pre processing from the drive.py so we call pre_process() on each of them.\n",
    "Next we shuffle the data and if the angle size is greater or less than .33 we create a mirrored image and apply the opposite(to the original) angle and append that data to the data set. We then shuffle the data again before yielding the batch size back."
   ]
  },
  {
   "cell_type": "code",
   "execution_count": 3,
   "metadata": {},
   "outputs": [
    {
     "name": "stdout",
     "output_type": "stream",
     "text": [
      "done\n"
     ]
    }
   ],
   "source": [
    "def generate_training_data(image_paths, angles, batch_size=128):\n",
    "    image_paths, angles = shuffle(image_paths, angles)\n",
    "    X,y = ([],[])\n",
    "    while True:       \n",
    "        for i in range(len(angles)):\n",
    "            img = cv2.imread(image_paths[i])\n",
    "            angle = angles[i]\n",
    "            img = preprocess_image(img)\n",
    "            X.append(img)\n",
    "            y.append(angle)\n",
    "            if len(X) == batch_size:\n",
    "                yield (np.array(X), np.array(y))\n",
    "                X, y = ([],[])\n",
    "                image_paths, angles = shuffle(image_paths, angles)\n",
    "            # flip horizontally and invert steer angle, if magnitude is > 0.33 to avoid adding \n",
    "            # too much data without meaningful change\n",
    "            if abs(angle) > 0.33:\n",
    "                img = cv2.flip(img, 1)\n",
    "                angle *= -1\n",
    "                X.append(img)\n",
    "                y.append(angle)\n",
    "                if len(X) == batch_size:\n",
    "                    yield (np.array(X), np.array(y))\n",
    "                    X, y = ([],[])\n",
    "                    image_paths, angles = shuffle(image_paths, angles)\n",
    "print(\"done\")"
   ]
  },
  {
   "cell_type": "markdown",
   "metadata": {},
   "source": [
    "## Load the data from the CSV"
   ]
  },
  {
   "attachments": {},
   "cell_type": "markdown",
   "metadata": {},
   "source": [
    "Reading the CSV file driving_log.csv which contains data columns:\n",
    "- center image path, left image path, right image path, steering, throttle, brake, speed\n"
   ]
  },
  {
   "cell_type": "code",
   "execution_count": 4,
   "metadata": {},
   "outputs": [
    {
     "name": "stdout",
     "output_type": "stream",
     "text": [
      "Size of data: (24108,) (24108,)\n"
     ]
    }
   ],
   "source": [
    "lines=[]\n",
    "image_paths = []\n",
    "angles = []\n",
    "img_path_prepend = ['', getcwd() + '/data/']\n",
    "with open('./data/driving_log.csv') as csvfile:\n",
    "    driving_data = list(csv.reader(csvfile, skipinitialspace=True, delimiter=',', quoting=csv.QUOTE_NONE))\n",
    "    for row in driving_data[1:]:\n",
    "        # skip it if ~0 speed - not representative of driving behavior\n",
    "        if float(row[6]) < 0.1 :\n",
    "            continue\n",
    "        # get center image path and angle\n",
    "        image_paths.append(img_path_prepend[1] + row[0])\n",
    "        angles.append(float(row[3]))\n",
    "        # get left image path and angle\n",
    "        image_paths.append(img_path_prepend[1] + row[1])\n",
    "        #add a correction factor of .25 to the angle\n",
    "        angles.append(float(row[3])+0.25)\n",
    "        # get left image path and angle\n",
    "        image_paths.append(img_path_prepend[1] + row[2])\n",
    "        # add a correction factor of -.25 to the angle\n",
    "        angles.append(float(row[3])-0.25)\n",
    "\n",
    "image_paths = np.array(image_paths)\n",
    "angles = np.array(angles)\n",
    "print('Size of data:', image_paths.shape, angles.shape)"
   ]
  },
  {
   "cell_type": "markdown",
   "metadata": {},
   "source": [
    "## Display the data distribution and remove unwanted amount of driving without turns"
   ]
  },
  {
   "cell_type": "markdown",
   "metadata": {},
   "source": [
    "The data set contains a very large amount of data from a few steering angles most notably a 0 steering angle. This resulted in a model that is a lot more bias towards not turning or adjusting the the middle of the road. To fix this, we delete data from columns that have much more data values than the rest(more than 50% of the average to be exact) the average here being the amount of angles/23. Deleted data is selected at random after adding a keep_prob to every angle(1 if we dont want to remove any).\n",
    "\n",
    "The graph below shows the original angle data in the blue bars and the resulting data in orange."
   ]
  },
  {
   "cell_type": "code",
   "execution_count": 5,
   "metadata": {},
   "outputs": [
    {
     "data": {
      "image/png": "[encoded data removed]",
      "text/plain": [
       "<matplotlib.figure.Figure at 0x1c29d3c9550>"
      ]
     },
     "metadata": {},
     "output_type": "display_data"
    },
    {
     "name": "stdout",
     "output_type": "stream",
     "text": [
      "Size of data after removing unwanted values: (5634,) (5634,)\n"
     ]
    }
   ],
   "source": [
    "num_bins = 23\n",
    "avg_samples_per_bin = len(angles)/num_bins\n",
    "hist, bins = np.histogram(angles, num_bins)\n",
    "width = 0.7 * (bins[1] - bins[0])\n",
    "center = (bins[:-1] + bins[1:]) / 2\n",
    "plt.bar(center, hist, align='center', width=width)\n",
    "plt.plot((np.min(angles), np.max(angles)), (avg_samples_per_bin, avg_samples_per_bin), 'k-')\n",
    "#set keep probability for data from steering angles with more than half the average samples per angle\n",
    "keep_probs = []\n",
    "target = avg_samples_per_bin * .5\n",
    "for i in range(num_bins):\n",
    "    if hist[i] < target:\n",
    "        keep_probs.append(1.)\n",
    "    else:\n",
    "        keep_probs.append(1./(hist[i]/target))\n",
    "remove_list = []\n",
    "for i in range(len(angles)):\n",
    "    for j in range(num_bins):\n",
    "        if angles[i] > bins[j] and angles[i] <= bins[j+1]:\n",
    "            # delete from X and y with probability 1 - keep_probs[j]\n",
    "            if np.random.rand() > keep_probs[j]:\n",
    "                remove_list.append(i)\n",
    "image_paths = np.delete(image_paths, remove_list, axis=0)\n",
    "angles = np.delete(angles, remove_list)\n",
    "\n",
    "# print histogram to show the new distribution of steering angles\n",
    "hist, bins = np.histogram(angles, num_bins)\n",
    "plt.bar(center, hist, align='center', width=width)\n",
    "plt.plot((np.min(angles), np.max(angles)), (avg_samples_per_bin, avg_samples_per_bin), 'k-')\n",
    "plt.show()\n",
    "\n",
    "print('Size of data after removing unwanted values:', image_paths.shape, angles.shape)"
   ]
  },
  {
   "cell_type": "markdown",
   "metadata": {},
   "source": [
    "## Keras model with Nvidia CNN"
   ]
  },
  {
   "cell_type": "markdown",
   "metadata": {},
   "source": [
    "The model used below is the suggested Nvidia architecture.\n",
    "\n",
    "- Input size is 3@66x200\n",
    "- Convolutional Layer: 36 feature maps 5x5 Kernal - Output:36@14x47\n",
    "- Convolutional Layer: 48 feature maps 5x5 Kernal - Output:48@5x22\n",
    "- Convolutional Layer: 64 feature maps 3x3 Kernal - Output:64@3x20\n",
    "- Convolutional Layer: 64 feature maps 3x3 Kernal - Output:64@1x18\n",
    "- Flatten\n",
    "- Fully Connected Layer x4\n",
    "\n",
    "The generator is used to create more data for the training and validation sets. Since the data creation and shuffle provides enough changes we use the initial data set for both training and validation sets."
   ]
  },
  {
   "cell_type": "code",
   "execution_count": 7,
   "metadata": {},
   "outputs": [
    {
     "name": "stdout",
     "output_type": "stream",
     "text": [
      "Epoch 1/5\n",
      "154s - loss: 0.0331 - val_loss: 0.0242\n",
      "Epoch 2/5\n",
      "44s - loss: 0.0205 - val_loss: 0.0187\n",
      "Epoch 3/5\n",
      "93s - loss: 0.0158 - val_loss: 0.0129\n",
      "Epoch 4/5\n",
      "95s - loss: 0.0106 - val_loss: 0.0073\n",
      "Epoch 5/5\n",
      "53s - loss: 0.0067 - val_loss: 0.0050\n",
      "done\n"
     ]
    }
   ],
   "source": [
    "model = Sequential()\n",
    "model.add(Lambda(lambda x: (x / 127.5) - 1.0, input_shape=(66,200,3)))\n",
    "##Nvidia Model\n",
    "model.add(Convolution2D(24,5,5,subsample=(2,2),activation=\"relu\"))\n",
    "model.add(Convolution2D(36,5,5,subsample=(2,2),activation=\"relu\"))\n",
    "model.add(Convolution2D(48,5,5,subsample=(2,2),activation=\"relu\"))\n",
    "model.add(Convolution2D(64,3,3,activation=\"relu\"))\n",
    "model.add(Convolution2D(64,3,3,activation=\"relu\"))\n",
    "model.add(Flatten())\n",
    "model.add(Dense(100))\n",
    "model.add(Dense(50))\n",
    "model.add(Dense(10))\n",
    "model.add(Dense(1))\n",
    "\n",
    "model.compile(loss='mse', optimizer='adam')\n",
    "\n",
    "train_gen = generate_training_data(image_paths, angles, batch_size=64)\n",
    "val_gen = generate_training_data(image_paths, angles, batch_size=64)\n",
    "\n",
    "history = model.fit_generator(train_gen, validation_data=val_gen, nb_val_samples=2560, samples_per_epoch=23040, \n",
    "                                  nb_epoch=5, verbose=2, callbacks=[checkpoint])\n",
    "\n",
    "model.save('model.h5')\n",
    "print(\"done\")"
   ]
  }
 ],
 "metadata": {
  "kernelspec": {
   "display_name": "Python 3",
   "language": "python",
   "name": "python3"
  },
  "language_info": {
   "codemirror_mode": {
    "name": "ipython",
    "version": 3
   },
   "file_extension": ".py",
   "mimetype": "text/x-python",
   "name": "python",
   "nbconvert_exporter": "python",
   "pygments_lexer": "ipython3",
   "version": "3.5.2"
  },
  "widgets": {
   "state": {},
   "version": "1.1.2"
  }
 },
 "nbformat": 4,
 "nbformat_minor": 2
}
